{
  "nbformat": 4,
  "nbformat_minor": 0,
  "metadata": {
    "colab": {
      "name": "Untitled0.ipynb",
      "provenance": [],
      "collapsed_sections": []
    },
    "kernelspec": {
      "name": "python3",
      "display_name": "Python 3"
    }
  },
  "cells": [
    {
      "cell_type": "markdown",
      "metadata": {
        "id": "l-neQ06YyWkK"
      },
      "source": [
        ""
      ]
    },
    {
      "cell_type": "code",
      "metadata": {
        "id": "02Pk0f5Ayajx"
      },
      "source": [
        "#Assignment--2"
      ],
      "execution_count": 13,
      "outputs": []
    },
    {
      "cell_type": "code",
      "metadata": {
        "colab": {
          "base_uri": "https://localhost:8080/"
        },
        "id": "0rGVzf6vzfAX",
        "outputId": "e850f721-fe12-4221-a4e0-23182125dc88"
      },
      "source": [
        "print(\"Assignment---1 \\n\")\r\n",
        "a=1500\r\n",
        "print(\"Enter the Altitude: \")\r\n",
        "if a<=1000:\r\n",
        "         print(\"safe to land\")\r\n",
        "elif a>1000 or a<5000 : \r\n",
        "          print(\"Bring down to 1000\")   \r\n",
        "elif a==5000:\r\n",
        "  print(\"Turn Around\")"
      ],
      "execution_count": 14,
      "outputs": [
        {
          "output_type": "stream",
          "text": [
            "Assignment---1 \n",
            "\n",
            "Enter the Altitude: \n",
            "Bring down to 1000\n"
          ],
          "name": "stdout"
        }
      ]
    }
  ]
}